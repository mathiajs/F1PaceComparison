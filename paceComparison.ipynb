{
 "cells": [
  {
   "cell_type": "code",
   "execution_count": null,
   "id": "6278f9eb",
   "metadata": {},
   "outputs": [],
   "source": [
    "import matplotlib.pyplot as plt\n",
    "import numpy as np\n",
    "import fastf1 as f1\n",
    "from matplotlib.collections import LineCollection\n",
    "import matplotlib as mpl"
   ]
  },
  {
   "cell_type": "code",
   "execution_count": null,
   "id": "97ba2a14",
   "metadata": {},
   "outputs": [],
   "source": [
    "year = int(input(\"Enter year, earliest 2018: \"))\n",
    "\n",
    "if year < 2018:\n",
    "    raise ValueError(\"Year must be 2018 or later.\")\n",
    "\n",
    "schedule = f1.get_event_schedule(year)\n",
    "available_weekends = schedule[['RoundNumber', 'EventName']]\n",
    "\n",
    "# Print the race weekends in the desired format\n",
    "print(\"Available race weekends:\")\n",
    "for _, row in available_weekends.iterrows():\n",
    "    print(f\"{row['RoundNumber']}: {row['EventName']}\")\n",
    "\n",
    "wknd = int(input(\"Enter race weekend number: \"))\n",
    "\n",
    "if (year == 2025 and wknd > 5) or wknd not in available_weekends['RoundNumber'].values:\n",
    "    raise ValueError(\"Weekend number is not valid for the selected year.\")\n",
    "\n",
    "\n",
    "ses = 'R'\n",
    "colormap = mpl.cm.plasma\n",
    "\n",
    "session = f1.get_session(year, wknd, ses)\n",
    "weekend = session.event\n",
    "session.load()\n"
   ]
  },
  {
   "cell_type": "code",
   "execution_count": null,
   "id": "782a2077",
   "metadata": {},
   "outputs": [],
   "source": [
    "# Retrieve and format the list of available drivers\n",
    "available_drivers = session.laps['Driver'].unique()\n",
    "available_drivers_str = ', '.join(available_drivers)\n",
    "\n",
    "print(f\"Available drivers: {available_drivers_str}\")"
   ]
  },
  {
   "cell_type": "code",
   "execution_count": null,
   "id": "c4603cbf",
   "metadata": {},
   "outputs": [],
   "source": [
    "drivers = input(\"Enter driver codes separated by commas: \").split(\",\")\n",
    "\n",
    "drivers = [driver.strip() for driver in drivers]\n",
    "\n",
    "if not all(driver in available_drivers for driver in drivers):\n",
    "    raise ValueError(\"One or more driver codes are invalid. Please check the available drivers list.\")\n",
    "\n",
    "# Assign a unique color to each driver\n",
    "driver_colors = {driver.strip(): mpl.cm.tab10(i) for i, driver in enumerate(drivers)}"
   ]
  },
  {
   "cell_type": "code",
   "execution_count": null,
   "id": "1eb0f84c",
   "metadata": {},
   "outputs": [],
   "source": [
    "# Loop through each driver and collect telemetry data\n",
    "driver_telemetry = {}\n",
    "for driver in drivers:\n",
    "    driver = driver.strip()\n",
    "    lap = session.laps.pick_drivers(driver).pick_fastest()\n",
    "    driver_telemetry[driver] = {\n",
    "        \"x\": lap.telemetry['X'].values,\n",
    "        \"y\": lap.telemetry['Y'].values,\n",
    "        \"speed\": lap.telemetry['Speed'].values\n",
    "    }\n",
    "\n",
    "# Use the first driver's telemetry as the reference\n",
    "reference_driver = drivers[0].strip()\n",
    "x_telemetry = driver_telemetry[reference_driver][\"x\"]\n",
    "y_telemetry = driver_telemetry[reference_driver][\"y\"]\n",
    "\n",
    "# Determine the minimum length of telemetry data across all drivers\n",
    "min_length = min(len(driver_telemetry[driver][\"speed\"]) for driver in drivers)\n",
    "\n",
    "fastest_driver = []\n",
    "\n",
    "# Determine the fastest driver at each point\n",
    "for i in range(min_length):\n",
    "    max_speed = -1\n",
    "    fastest = None\n",
    "    for driver in drivers:\n",
    "        driver = driver.strip()\n",
    "        speed = driver_telemetry[driver][\"speed\"][i]\n",
    "        if speed > max_speed:\n",
    "            max_speed = speed\n",
    "            fastest = driver\n",
    "    fastest_driver.append(fastest)\n"
   ]
  },
  {
   "cell_type": "code",
   "execution_count": null,
   "id": "74bfbb66",
   "metadata": {},
   "outputs": [],
   "source": [
    "points = np.array([x_telemetry, y_telemetry]).T.reshape(-1, 1, 2)\n",
    "segments = np.concatenate([points[:-1], points[1:]], axis=1)"
   ]
  },
  {
   "cell_type": "code",
   "execution_count": null,
   "id": "0890dc1d",
   "metadata": {},
   "outputs": [],
   "source": [
    "# Map drivers to colors for the plot\n",
    "colors = [driver_colors[driver] for driver in fastest_driver]\n",
    "\n",
    "# Create the plot\n",
    "fig, ax = plt.subplots(sharex=True, sharey=True, figsize=(12, 6.75))\n",
    "fig.suptitle(f'{session.event['EventName']} {year} - Fastest Driver - {\", \".join(drivers)}', size=24, y=0.97)\n",
    "\n",
    "# Adjust margins and turn off axis\n",
    "plt.subplots_adjust(left=0.1, right=0.9, top=0.9, bottom=0.12)\n",
    "ax.axis('off')\n",
    "\n",
    "# Plot the background track line\n",
    "ax.plot(x_telemetry, y_telemetry, color='black', linestyle='-', linewidth=16, zorder=0)\n",
    "\n",
    "# Create a LineCollection with driver-specific colors\n",
    "lc = LineCollection(segments, colors=colors, linestyle='-', linewidth=5)\n",
    "\n",
    "# Add the collection to the plot\n",
    "ax.add_collection(lc)\n",
    "\n",
    "# Create a legend for the drivers\n",
    "legend_handles = [mpl.lines.Line2D([0], [0], color=color, lw=4, label=driver) for driver, color in driver_colors.items()]\n",
    "ax.legend(handles=legend_handles, loc='upper right', title=\"Drivers\")\n",
    "\n",
    "# Show the plot \n",
    "plt.show()"
   ]
  }
 ],
 "metadata": {
  "kernelspec": {
   "display_name": "Python 3",
   "language": "python",
   "name": "python3"
  },
  "language_info": {
   "codemirror_mode": {
    "name": "ipython",
    "version": 3
   },
   "file_extension": ".py",
   "mimetype": "text/x-python",
   "name": "python",
   "nbconvert_exporter": "python",
   "pygments_lexer": "ipython3",
   "version": "3.12.6"
  }
 },
 "nbformat": 4,
 "nbformat_minor": 5
}
